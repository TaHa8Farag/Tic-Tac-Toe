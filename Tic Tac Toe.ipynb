{
 "cells": [
  {
   "cell_type": "code",
   "execution_count": 1,
   "id": "5b4bab21",
   "metadata": {},
   "outputs": [],
   "source": [
    "board = [['', '', ''],\n",
    "        ['', '', ''],\n",
    "        ['', '', '']]"
   ]
  },
  {
   "cell_type": "code",
   "execution_count": 2,
   "id": "c7c06f90",
   "metadata": {},
   "outputs": [],
   "source": [
    "def print_board(board):\n",
    "    for row in board:\n",
    "        print(' | '.join(row))\n",
    "        print('-' * 7)"
   ]
  },
  {
   "cell_type": "code",
   "execution_count": 3,
   "id": "88e7cc80",
   "metadata": {},
   "outputs": [
    {
     "name": "stdout",
     "output_type": "stream",
     "text": [
      " |  | \n",
      "-------\n",
      " |  | \n",
      "-------\n",
      " |  | \n",
      "-------\n"
     ]
    }
   ],
   "source": [
    "print_board(board)"
   ]
  },
  {
   "cell_type": "code",
   "execution_count": 4,
   "id": "1792e964",
   "metadata": {},
   "outputs": [],
   "source": [
    "def get_move():\n",
    "    while True:\n",
    "        try:\n",
    "            row = int(input('Enter Row    (0, 1, or 2): '))\n",
    "            col = int(input('Enter Column (0, 1, or 2): '))\n",
    "            if 0 <= row <= 2 and 0 <= col <= 2:\n",
    "                return row, col\n",
    "            else:\n",
    "                print('Invalid input. Please enter values between 0 and 2.')\n",
    "        except ValueError:\n",
    "            print('Invalid input. Please enter numeric values.')\n"
   ]
  },
  {
   "cell_type": "code",
   "execution_count": 5,
   "id": "8788ef2e",
   "metadata": {},
   "outputs": [],
   "source": [
    "def check_win(board, symbol):\n",
    "    # Check rows for three in a row.\n",
    "    for i in range(3):\n",
    "        if board[i][0] == board[i][1] == board[i][2] == symbol:\n",
    "            return True\n",
    "\n",
    "    # Check columns for three in a row.\n",
    "    for i in range(3):\n",
    "        if board[0][i] == board[1][i] == board[2][i] == symbol:\n",
    "            return True\n",
    "\n",
    "    # Check diagonals for three in a row.\n",
    "    if board[0][0] == board[1][1] == board[2][2] == symbol:\n",
    "        return True\n",
    "    if board[0][2] == board[1][1] == board[2][0] == symbol:\n",
    "        return True\n",
    "\n",
    "    return False\n"
   ]
  },
  {
   "cell_type": "code",
   "execution_count": 6,
   "id": "0fdac204",
   "metadata": {},
   "outputs": [],
   "source": [
    "def check_tie(board):\n",
    "    for row in board:\n",
    "        for cell in row:\n",
    "            if cell == '':\n",
    "                return False\n",
    "    return True\n"
   ]
  },
  {
   "cell_type": "code",
   "execution_count": 7,
   "id": "0cc67f1f",
   "metadata": {},
   "outputs": [],
   "source": [
    "def tic_tac_toe():\n",
    "    player_symbols = ['X', 'O']\n",
    "    player_turn = 0\n",
    "\n",
    "    while True:\n",
    "        # Print the current game board.\n",
    "        print_board(board)\n",
    "        print(\"Player {}'s turn ({})\".format(player_turn + 1, player_symbols[player_turn]))\n",
    "\n",
    "        # Get the player's move.\n",
    "        row, col = get_move()\n",
    "\n",
    "        # Check if the chosen cell is empty, then make the move.\n",
    "        if board[row][col] == '':\n",
    "            board[row][col] = player_symbols[player_turn]\n",
    "\n",
    "            # Check if the current player wins.\n",
    "            if check_win(board, player_symbols[player_turn]):\n",
    "                print_board(board)\n",
    "                print(\"Player {} wins!\".format(player_turn + 1))\n",
    "                break\n",
    "\n",
    "            # Check if the game is a tie.\n",
    "            if check_tie(board):\n",
    "                print_board(board)\n",
    "                print(\"It's a tie!\")\n",
    "                break\n",
    "\n",
    "            # Switch to the next player's turn.\n",
    "            player_turn = (player_turn + 1) % 2\n",
    "        else:\n",
    "            print(\"Cell already taken. Try again.\")\n",
    "\n"
   ]
  },
  {
   "cell_type": "code",
   "execution_count": 8,
   "id": "69c82a53",
   "metadata": {
    "scrolled": false
   },
   "outputs": [
    {
     "name": "stdout",
     "output_type": "stream",
     "text": [
      " |  | \n",
      "-------\n",
      " |  | \n",
      "-------\n",
      " |  | \n",
      "-------\n",
      "Player 1's turn (X)\n",
      "Enter Row    (0, 1, or 2): 0\n",
      "Enter Column (0, 1, or 2): 0\n",
      "X |  | \n",
      "-------\n",
      " |  | \n",
      "-------\n",
      " |  | \n",
      "-------\n",
      "Player 2's turn (O)\n",
      "Enter Row    (0, 1, or 2): 0\n",
      "Enter Column (0, 1, or 2): 1\n",
      "X | O | \n",
      "-------\n",
      " |  | \n",
      "-------\n",
      " |  | \n",
      "-------\n",
      "Player 1's turn (X)\n",
      "Enter Row    (0, 1, or 2): 1\n",
      "Enter Column (0, 1, or 2): 0\n",
      "X | O | \n",
      "-------\n",
      "X |  | \n",
      "-------\n",
      " |  | \n",
      "-------\n",
      "Player 2's turn (O)\n",
      "Enter Row    (0, 1, or 2): 1\n",
      "Enter Column (0, 1, or 2): 1\n",
      "X | O | \n",
      "-------\n",
      "X | O | \n",
      "-------\n",
      " |  | \n",
      "-------\n",
      "Player 1's turn (X)\n",
      "Enter Row    (0, 1, or 2): 2\n",
      "Enter Column (0, 1, or 2): 0\n",
      "X | O | \n",
      "-------\n",
      "X | O | \n",
      "-------\n",
      "X |  | \n",
      "-------\n",
      "Player 1 wins!\n"
     ]
    }
   ],
   "source": [
    "tic_tac_toe()"
   ]
  },
  {
   "cell_type": "code",
   "execution_count": null,
   "id": "3f2eec75",
   "metadata": {},
   "outputs": [],
   "source": []
  },
  {
   "cell_type": "code",
   "execution_count": null,
   "id": "b7eae9a4",
   "metadata": {},
   "outputs": [],
   "source": []
  },
  {
   "cell_type": "code",
   "execution_count": null,
   "id": "ac51d450",
   "metadata": {},
   "outputs": [],
   "source": []
  }
 ],
 "metadata": {
  "kernelspec": {
   "display_name": "Python 3 (ipykernel)",
   "language": "python",
   "name": "python3"
  },
  "language_info": {
   "codemirror_mode": {
    "name": "ipython",
    "version": 3
   },
   "file_extension": ".py",
   "mimetype": "text/x-python",
   "name": "python",
   "nbconvert_exporter": "python",
   "pygments_lexer": "ipython3",
   "version": "3.11.3"
  }
 },
 "nbformat": 4,
 "nbformat_minor": 5
}
